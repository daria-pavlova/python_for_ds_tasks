{
  "nbformat": 4,
  "nbformat_minor": 0,
  "metadata": {
    "colab": {
      "provenance": [],
      "include_colab_link": true
    },
    "kernelspec": {
      "name": "python3",
      "display_name": "Python 3"
    },
    "language_info": {
      "name": "python"
    }
  },
  "cells": [
    {
      "cell_type": "markdown",
      "metadata": {
        "id": "view-in-github",
        "colab_type": "text"
      },
      "source": [
        "<a href=\"https://colab.research.google.com/github/daria-pavlova/python_for_ds_tasks/blob/main/hw_2.1_1_hypothesis_testing.ipynb\" target=\"_parent\"><img src=\"https://colab.research.google.com/assets/colab-badge.svg\" alt=\"Open In Colab\"/></a>"
      ]
    },
    {
      "cell_type": "markdown",
      "source": [
        "В цьому ДЗ потренуємось виконувати Z-тести для тестування гіпотез в різних задачах. Для коректної імплементації та інтерпретації тестів рекоемндую переглянути спершу документацію:\n",
        "\n",
        "https://www.statsmodels.org/dev/generated/statsmodels.stats.weightstats.ztest.html\n",
        "\n",
        "### Завдання 1: Z-тест для однієї вибірки\n",
        "\n",
        "**Мета**: Перевірити, чи середнє значення вибірки відрізняється від гіпотетичного середнього.\n",
        "\n",
        "**Припущення**: Середній ріст студентів університету вважається 170 см. Ми хочемо перевірити, чи середній ріст випадкової вибірки студентів істотно більший. Вибірка задана в змінній `heights`.\n",
        "\n",
        "Для виконання завдання імпортуйте метод для проведення `ztest`, виконайте Z-тест з Python, виведіть p-value і зробіть заключення, чи справдилось припущення про середній зріст студентів на рівні значущості 0.05?\n",
        "\n",
        "Використовуємо тут Z-тест, оскільки вибірка достатньо велика (більше 30 екземплярів) і можемо вважати, що її стандартне відхилення близьке до ст. відхилення генеральної сукупності, а значить - відоме."
      ],
      "metadata": {
        "id": "ID3uSQHkQJ2J"
      }
    },
    {
      "cell_type": "markdown",
      "source": [
        "Імопортуємо метод для проведення ztest."
      ],
      "metadata": {
        "id": "v-9gASz4jO6w"
      }
    },
    {
      "cell_type": "code",
      "source": [
        "import numpy as np\n",
        "from statsmodels.stats.weightstats import ztest"
      ],
      "metadata": {
        "id": "YyTSoZBqji4a"
      },
      "execution_count": 6,
      "outputs": []
    },
    {
      "cell_type": "markdown",
      "source": [
        "Задаємо нашу вибірку зі зростом студентів."
      ],
      "metadata": {
        "id": "ACRzR7vllnOC"
      }
    },
    {
      "cell_type": "code",
      "source": [
        "heights = [174, 171, 175, 179, 170, 170, 179, 175, 169, 174, 169, 169, 173, 162, 163, 169, 166, 173, 167, 164, 179, 170, 172, 164, 169, 175, 169, 174, 169, 169, 173, 162, 177]"
      ],
      "metadata": {
        "id": "bv_eXUaeiqxQ"
      },
      "execution_count": 1,
      "outputs": []
    },
    {
      "cell_type": "markdown",
      "source": [
        "Задаємо рівень значущості та нульову гіпотезу середнього зросту."
      ],
      "metadata": {
        "id": "CLIxAYOIlrWe"
      }
    },
    {
      "cell_type": "code",
      "source": [
        "alpha = 0.05\n",
        "null_height = 170"
      ],
      "metadata": {
        "id": "uTJEZPARYMd4"
      },
      "execution_count": 7,
      "outputs": []
    },
    {
      "cell_type": "markdown",
      "source": [
        "Розраховуємо середнє значення вибірки та середнє відхилення від середнього значення."
      ],
      "metadata": {
        "id": "E_X6Ghb_l3y3"
      }
    },
    {
      "cell_type": "code",
      "source": [
        "print('mean=%.2f stdv=%.2f' % (np.mean(heights), np.std(heights)))"
      ],
      "metadata": {
        "colab": {
          "base_uri": "https://localhost:8080/"
        },
        "id": "UZrmhpK6kmLw",
        "outputId": "4e937b9a-b784-435c-e69e-d7696970da3d"
      },
      "execution_count": 9,
      "outputs": [
        {
          "output_type": "stream",
          "name": "stdout",
          "text": [
            "mean=170.70 stdv=4.65\n"
          ]
        }
      ]
    },
    {
      "cell_type": "markdown",
      "source": [
        "Тепер проводимо тест. У цій функції ми передали дані, у параметрі значення ми передали середнє значення в нульовій гіпотезі, в альтернативній гіпотезі ми перевіряємо, чи більше середнє значення."
      ],
      "metadata": {
        "id": "ddLz3pF5mFlB"
      }
    },
    {
      "cell_type": "code",
      "source": [
        "ztest_Score, p_value = ztest(heights, value = null_height, alternative = 'larger')"
      ],
      "metadata": {
        "id": "0Ha7pL8jmZJZ"
      },
      "execution_count": 10,
      "outputs": []
    },
    {
      "cell_type": "code",
      "source": [
        "ztest_Score, p_value"
      ],
      "metadata": {
        "colab": {
          "base_uri": "https://localhost:8080/"
        },
        "id": "Hxg_vuYRm_aC",
        "outputId": "44d12be5-9f0d-439f-a398-b29a263b2bc4"
      },
      "execution_count": 11,
      "outputs": [
        {
          "output_type": "execute_result",
          "data": {
            "text/plain": [
              "(0.8482235371587619, 0.19815674571091746)"
            ]
          },
          "metadata": {},
          "execution_count": 11
        }
      ]
    },
    {
      "cell_type": "markdown",
      "source": [
        "Дивимося, яку з гіпотез задовільняє наше p value."
      ],
      "metadata": {
        "id": "Wqoc2bjLnRgX"
      }
    },
    {
      "cell_type": "code",
      "source": [
        "if (p_value < alpha):\n",
        "  print(\"Reject H0. Mean height is less than 170.\")\n",
        "else:\n",
        "  print(\"H0 can't be rejected. Mean height is greater than 170.\")"
      ],
      "metadata": {
        "colab": {
          "base_uri": "https://localhost:8080/"
        },
        "id": "6-i-8G_PncWC",
        "outputId": "1ce37df2-97c5-4b9a-937c-7e1287921c3e"
      },
      "execution_count": 13,
      "outputs": [
        {
          "output_type": "stream",
          "name": "stdout",
          "text": [
            "H0 can't be rejected. Mean height is greater than 170\n"
          ]
        }
      ]
    },
    {
      "cell_type": "markdown",
      "source": [
        "### Завдання 2: Z-тест для двох незалежних вибірок\n",
        "\n",
        "**Завдання 2.1.**\n",
        "\n",
        "**Мета**: Перевірити, чи існує статистична різниця між середніми оцінками двох груп студентів.\n",
        "\n",
        "**Припущення**: Група A отримала новий навчальний курс, а група B продовжувала зі стандартним курсом. Ми перевіряємо, чи є новий курс ефективнішим.\n",
        "\n",
        "Виконайте Z-тест з Python, виведіть p-value і зробіть заключення, чи справдилось припущення щодо студентів на рівні значущості 0.05?"
      ],
      "metadata": {
        "id": "ga4iKM9kQa9Q"
      }
    },
    {
      "cell_type": "code",
      "source": [
        "group_a_scores = [78.55, 72.25, 79.88, 75.  , 76.54, 74.99, 87.26, 77.93, 72.71,\n",
        "       82.11, 71.9 , 79.04, 68.2 , 71.36, 78.98, 81.69, 78.86, 77.42,\n",
        "       76.49, 70.61, 74.4 , 75.7 , 83.29, 79.72, 69.18, 79.62, 76.07,\n",
        "       74.62, 81.06, 83.15, 82.66, 73.8 , 76.45, 79.66, 82.88, 75.6 ,\n",
        "       77.07, 72.47, 72.02, 82.06]\n",
        "\n",
        "group_b_scores = [81.78, 74.64, 80.02, 76.81, 71.77, 76.81, 82.69, 74.82, 82.82,\n",
        "       61.9 , 79.11, 75.44, 73.5 , 75.46, 65.06, 73.9 , 76.79, 82.39,\n",
        "       72.41, 70.96, 72.49, 79.58, 76.64, 72.35, 77.57, 75.49, 79.84,\n",
        "       71.49, 73.36, 73.04, 67.68, 76.48, 76.31, 75.03, 73.83, 67.92,\n",
        "       72.9 , 73.29, 70.99, 74.19]"
      ],
      "metadata": {
        "id": "SngJjNBJTgBp"
      },
      "execution_count": 15,
      "outputs": []
    },
    {
      "cell_type": "markdown",
      "source": [
        "Перевіряємо розміри вибірок, щоб впевнитися, що вони більше 30."
      ],
      "metadata": {
        "id": "Sz8N5snftrtl"
      }
    },
    {
      "cell_type": "code",
      "source": [
        "len(group_a_scores), len(group_b_scores)"
      ],
      "metadata": {
        "id": "CvftCAEHYPKL",
        "colab": {
          "base_uri": "https://localhost:8080/"
        },
        "outputId": "83d2b5e0-7b22-423e-adaf-259ecddd621f"
      },
      "execution_count": 16,
      "outputs": [
        {
          "output_type": "execute_result",
          "data": {
            "text/plain": [
              "(40, 40)"
            ]
          },
          "metadata": {},
          "execution_count": 16
        }
      ]
    },
    {
      "cell_type": "markdown",
      "source": [
        "Рораховуємо середнє значення для кожної з вибірок."
      ],
      "metadata": {
        "id": "WJaIEexStyTr"
      }
    },
    {
      "cell_type": "code",
      "source": [
        "np.mean(group_a_scores), np.mean(group_b_scores)"
      ],
      "metadata": {
        "colab": {
          "base_uri": "https://localhost:8080/"
        },
        "id": "c5a6SEWRt82k",
        "outputId": "3b833313-4f01-4eca-b5eb-99b42b7f8564"
      },
      "execution_count": 17,
      "outputs": [
        {
          "output_type": "execute_result",
          "data": {
            "text/plain": [
              "(77.08125, 74.73875000000001)"
            ]
          },
          "metadata": {},
          "execution_count": 17
        }
      ]
    },
    {
      "cell_type": "markdown",
      "source": [
        "Виконуємо z-test."
      ],
      "metadata": {
        "id": "PH1OeklhuRKD"
      }
    },
    {
      "cell_type": "code",
      "source": [
        "ztest(group_b_scores, group_a_scores, value=0)"
      ],
      "metadata": {
        "colab": {
          "base_uri": "https://localhost:8080/"
        },
        "id": "16UOYEsGuhbC",
        "outputId": "e26bb2ce-4fe6-4bef-faf6-c18b5b78a59e"
      },
      "execution_count": 19,
      "outputs": [
        {
          "output_type": "execute_result",
          "data": {
            "text/plain": [
              "(-2.357354864751502, 0.01840564855252801)"
            ]
          },
          "metadata": {},
          "execution_count": 19
        }
      ]
    },
    {
      "cell_type": "markdown",
      "source": [
        "Статистика між двома вибірках по z-критерію становить 2.3573, відповідно p-value становить 0.0184.\n",
        "Оскільки p-value < 0.05, у нас достатньо доказів, щоб відкинути нульову теорію. Іншими словами оцінки учнів вибірок значно різняться між 2 вибірками.\n",
        "Додатково ми можемо зробити висновок, що стандартна девіація групи А негативна - 2.3573, тобто спостерігається погіршення оцінок на основі нового курсу."
      ],
      "metadata": {
        "id": "QaXitM9rvhpO"
      }
    },
    {
      "cell_type": "markdown",
      "source": [
        "**Завдання 2.2.**\n",
        "\n",
        "\n",
        "**Мета**: Побачити, як впливає розмір вибірок на результат тесту.\n",
        "\n",
        "**Завдання**: Уявіть, що з групи А ми маємо тільки перші 5 записів, а з групи В - усі. Таке могло статись, якщо ми вже маємо результати тестів учнів за попередньою програмою, а тести за новою програмою здали наразі лише 5 учнів і ми вирішили не чекати довше.\n",
        "Виберіть перші 5 записів для групи А і проведіть t-test (для цього використовуємо наступний [метод](https://docs.scipy.org/doc/scipy/reference/generated/scipy.stats.ttest_ind.html)). Виведіть значення p-value. Зробіть висновок, який результат ви бачите щодо стат. значущості на рівні 0.05 для цього експерименту?\n",
        "\n",
        "Тут проводимо t-test оскільки одна з вибірок - дуже мала."
      ],
      "metadata": {
        "id": "zOxz2tU0VpJM"
      }
    },
    {
      "cell_type": "markdown",
      "source": [
        "Обрізаємо оригінальний масив вибірки групи А і зберігаємо його. в нову вибірку для статистичного аналалізу t-test."
      ],
      "metadata": {
        "id": "xx1UJFN53dW7"
      }
    },
    {
      "cell_type": "code",
      "source": [
        "group_a_scores_only_five = group_a_scores[:5]\n",
        "group_a_scores_only_five"
      ],
      "metadata": {
        "id": "D9znE6liYQmP",
        "colab": {
          "base_uri": "https://localhost:8080/"
        },
        "outputId": "1e66ad96-7d14-4063-dde7-ffcc03d34d74"
      },
      "execution_count": 22,
      "outputs": [
        {
          "output_type": "execute_result",
          "data": {
            "text/plain": [
              "[78.55, 72.25, 79.88, 75.0, 76.54]"
            ]
          },
          "metadata": {},
          "execution_count": 22
        }
      ]
    },
    {
      "cell_type": "markdown",
      "source": [
        "Імпортуємо t-test."
      ],
      "metadata": {
        "id": "5-CZsEh43sjk"
      }
    },
    {
      "cell_type": "code",
      "source": [
        "from scipy.stats import ttest_ind"
      ],
      "metadata": {
        "id": "eFRt5Tym3v4k"
      },
      "execution_count": 28,
      "outputs": []
    },
    {
      "cell_type": "markdown",
      "source": [
        "Переглянемо середні значення для двох вибірок."
      ],
      "metadata": {
        "id": "R4vROKmr41dZ"
      }
    },
    {
      "cell_type": "code",
      "source": [
        "np.mean(group_a_scores_only_five), np.mean(group_b_scores)"
      ],
      "metadata": {
        "colab": {
          "base_uri": "https://localhost:8080/"
        },
        "id": "9CVFVH_N4vaN",
        "outputId": "dde5b603-87fe-4014-aaa3-d3d95d81745a"
      },
      "execution_count": 30,
      "outputs": [
        {
          "output_type": "execute_result",
          "data": {
            "text/plain": [
              "(76.444, 74.73875000000001)"
            ]
          },
          "metadata": {},
          "execution_count": 30
        }
      ]
    },
    {
      "cell_type": "markdown",
      "source": [
        "Проведемо t-test, щоб визначити девіацію між вибірками."
      ],
      "metadata": {
        "id": "P8cPtP-O5DbR"
      }
    },
    {
      "cell_type": "code",
      "source": [
        "t_stat, p_val = ttest_ind(group_b_scores, group_a_scores_only_five)\n",
        "\n",
        "print(f'T-statistic is {t_stat}')\n",
        "print(f'P-value is {p_val}')"
      ],
      "metadata": {
        "colab": {
          "base_uri": "https://localhost:8080/"
        },
        "id": "L662CHZI5LRU",
        "outputId": "c9305cfc-2a40-4f00-c60a-e15a9e20c9ed"
      },
      "execution_count": 34,
      "outputs": [
        {
          "output_type": "stream",
          "name": "stdout",
          "text": [
            "T-statistic is -0.8167951030410814\n",
            "P-value is 0.4185479477535733\n"
          ]
        }
      ]
    },
    {
      "cell_type": "markdown",
      "source": [
        "Знову можемо побачити негативні результати вже значення t-statistic -0.8167, p-value is > 0.05, therefore we fail to reject H0. Which means that results between 2 data groups has no sufficient evidence to say that the difference between 2 groups is statisticly relevant."
      ],
      "metadata": {
        "id": "Upe7mecm52xv"
      }
    },
    {
      "cell_type": "markdown",
      "source": [
        "\n",
        "### Завдання 3\\*: Z-тест для двох **пов'язаних** вибірок\n",
        "\n",
        "**Мета**: Перевірити, чи вплинув тренінг на продуктивність працівників, коли всі справробітники проходили тренінг.\n",
        "\n",
        "**Припущення**: Наші працівники проходять однаковий тренінг, і ми хочемо з'ясувати, чи покращилися їхні показники після тренінгу на рівні значущості 0.05. Виконайте Z-тест з Python, виведіть p-value і зробіть заключення, чи поліпшились показники працівників на рівні значущості 0.05?\n",
        "\n",
        "Зверніть увагу, ці вибірки повʼязані між собою, значить не буде коректно виконати z-test між ними, натомість, ми можемо порівняти, чи різниця в результатах (продуктивності співробітників) є стат значущою."
      ],
      "metadata": {
        "id": "3TcRHLLz0SLw"
      }
    },
    {
      "cell_type": "code",
      "source": [
        "before_training = [57.82, 37.63, 36.8 , 55.22, 52.97, 52.5 , 53.46, 43.2 , 52.32,\n",
        "       52.93, 42.86, 68.66, 54.74, 38.09, 56.57, 40.25, 57.87, 61.59,\n",
        "       41.79, 59.63, 54.13, 58.22, 68.97, 47.55, 42.46, 41.1 , 41.84,\n",
        "       49.23, 53.41, 52.77]\n",
        "\n",
        "after_training = [62.47, 40.66, 42.7 , 57.69, 61.41, 56.76, 54.75, 44.06, 56.29,\n",
        "       55.48, 47.28, 72.6 , 57.59, 39.39, 56.54, 42.36, 62.58, 65.01,\n",
        "       42.3 , 62.98, 57.9 , 59.45, 72.28, 50.66, 43.18, 44.82, 45.96,\n",
        "       54.4 , 58.52, 53.01]"
      ],
      "metadata": {
        "id": "uxrjagJFW1GC"
      },
      "execution_count": 36,
      "outputs": []
    },
    {
      "cell_type": "code",
      "source": [
        "diff = np.array(after_training) - np.array(before_training)"
      ],
      "metadata": {
        "id": "3LGyhYskBQWV"
      },
      "execution_count": 42,
      "outputs": []
    },
    {
      "cell_type": "code",
      "source": [
        "z_stat, p_val = ztest(diff, value=0)\n",
        "\n",
        "print(f'Z-statistic: {z_stat}')\n",
        "print(f'p-value: {p_val}')"
      ],
      "metadata": {
        "colab": {
          "base_uri": "https://localhost:8080/"
        },
        "id": "SZ8o422JCBn_",
        "outputId": "51dd66d7-1169-4b4b-a7b9-4665a6cb04a6"
      },
      "execution_count": 43,
      "outputs": [
        {
          "output_type": "stream",
          "name": "stdout",
          "text": [
            "Z-statistic: 9.13890009623916\n",
            "p-value: 6.309071983835101e-20\n"
          ]
        }
      ]
    },
    {
      "cell_type": "markdown",
      "source": [
        "Результат свідчить про те, p-value > 0.05. Тобто ми можемо стверджувати, що різниця мід двома вибірками є статистино значущою.\n",
        "Результати z-test позитивний, що свідчиить про те, що тренінг позитивно вплинув на показники співробітників."
      ],
      "metadata": {
        "id": "M7rqEyq-EbO9"
      }
    }
  ]
}
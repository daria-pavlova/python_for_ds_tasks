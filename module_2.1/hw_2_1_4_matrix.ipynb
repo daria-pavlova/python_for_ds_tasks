{
  "nbformat": 4,
  "nbformat_minor": 0,
  "metadata": {
    "colab": {
      "provenance": [],
      "include_colab_link": true
    },
    "kernelspec": {
      "name": "python3",
      "display_name": "Python 3"
    },
    "language_info": {
      "name": "python"
    }
  },
  "cells": [
    {
      "cell_type": "markdown",
      "metadata": {
        "id": "view-in-github",
        "colab_type": "text"
      },
      "source": [
        "<a href=\"https://colab.research.google.com/github/daria-pavlova/python_for_ds_tasks/blob/main/module_2.1/hw_2_1_4_matrix.ipynb\" target=\"_parent\"><img src=\"https://colab.research.google.com/assets/colab-badge.svg\" alt=\"Open In Colab\"/></a>"
      ]
    },
    {
      "cell_type": "markdown",
      "source": [
        "### Завдання 1: Створення матриць та векторів\n",
        "1. Створіть `numpy` вектор `vector` розмірністю 10 з випадковими дійсними значеннями в діапазоні від 0 до 1. Можна скористатись двома альтернативними варіантами:\n",
        "  1. Генерація випадкових чисел з модулем [`random.uniform`](https://docs.python.org/3/library/random.html).\n",
        "  2. Створення вектора з допомогою метода `numpy` [np.random.rand](https://numpy.org/doc/stable/reference/random/generated/numpy.random.rand.html)\n",
        "\n",
        "2. Створіть матрицю `matrix` типу `numpy.array` розмірності 3x3 з наступними значеннями\n",
        "\n",
        "  $$\n",
        "  matrix = \\begin{bmatrix}\n",
        "  11 & 14 & 17 \\\\\n",
        "  20 & 23 & 26 \\\\\n",
        "  29 & 32 & 35\n",
        "  \\end{bmatrix}\n",
        "  $$\n",
        "\n",
        "  будь-яким відомими Вам способом.\n",
        "\n",
        "Виведіть на екран вектор і матрицю, а також їх розміри.\n"
      ],
      "metadata": {
        "id": "efug1V4CM0lT"
      }
    },
    {
      "cell_type": "code",
      "source": [
        "import numpy as np\n",
        "import pandas as pd"
      ],
      "metadata": {
        "id": "jxA_lG2_VIMe"
      },
      "execution_count": null,
      "outputs": []
    },
    {
      "cell_type": "markdown",
      "source": [
        "1. numpy вектор vector розмірністю 10 з випадковими дійсними значеннями в діапазоні від 0 до 1."
      ],
      "metadata": {
        "id": "nuSp7XZDPF1A"
      }
    },
    {
      "cell_type": "code",
      "source": [
        "random_vector = np.random.rand(10)\n",
        "random_vector"
      ],
      "metadata": {
        "id": "smoezVewOyYQ",
        "outputId": "07ab14b3-e515-4020-e8af-99759042d616",
        "colab": {
          "base_uri": "https://localhost:8080/"
        }
      },
      "execution_count": null,
      "outputs": [
        {
          "output_type": "execute_result",
          "data": {
            "text/plain": [
              "array([0.72576557, 0.00411051, 0.32071442, 0.76632221, 0.51271667,\n",
              "       0.59788753, 0.89644688, 0.10526675, 0.67335329, 0.7782725 ])"
            ]
          },
          "metadata": {},
          "execution_count": 21
        }
      ]
    },
    {
      "cell_type": "markdown",
      "source": [
        "2. Матриця розмірності 3х3 з наданами значеннями."
      ],
      "metadata": {
        "id": "6bJsFzB5PoRl"
      }
    },
    {
      "cell_type": "code",
      "source": [
        "matrix = np.array( [[11, 14, 17],\n",
        "                    [20, 23, 26],\n",
        "                    [29, 32, 35]])\n",
        "print(\"Матриця з наданими значеннями:\")\n",
        "print(matrix)"
      ],
      "metadata": {
        "id": "EGpxbe3nPuuS",
        "outputId": "ddfb34ae-56e8-41c3-f0a8-3a1204515042",
        "colab": {
          "base_uri": "https://localhost:8080/"
        }
      },
      "execution_count": null,
      "outputs": [
        {
          "output_type": "stream",
          "name": "stdout",
          "text": [
            "Матриця з наданими значеннями:\n",
            "[[11 14 17]\n",
            " [20 23 26]\n",
            " [29 32 35]]\n"
          ]
        }
      ]
    },
    {
      "cell_type": "markdown",
      "source": [
        "\n",
        "### Завдання 2: Операції над векторами та матрицями\n",
        "Виконайте кожну з зазначених операцій над зазначеними оʼєктами і виведіть результат на екран:\n",
        "1. Додайте до кожного значення вектора `vector` число 10 і округліть кожне значення до 2 знаків після коми без використання циклів.\n",
        "2. Помножте кожен елемент матриці з першого завдання на 2 без використання циклів.\n",
        "3. Створіть новий вектор, який містить квадрат кожного `vector` без циклів.\n"
      ],
      "metadata": {
        "id": "TSJ1P4OuOVe2"
      }
    },
    {
      "cell_type": "markdown",
      "source": [
        "1. Додаванная до кожного елемента вектора і округлення до 2 знаків після коми."
      ],
      "metadata": {
        "id": "mLHARUE6TF1O"
      }
    },
    {
      "cell_type": "code",
      "source": [
        "random_vector_addition_const = 10 + random_vector\n",
        "random_vector_addition_const_rounded = np.round(random_vector_addition_const, 2)\n",
        "random_vector_addition_const_rounded"
      ],
      "metadata": {
        "id": "nAAojtyUVJXN",
        "outputId": "8fffe0ed-50f0-49d5-f920-d9983243fb2c",
        "colab": {
          "base_uri": "https://localhost:8080/"
        }
      },
      "execution_count": null,
      "outputs": [
        {
          "output_type": "execute_result",
          "data": {
            "text/plain": [
              "array([10.73, 10.  , 10.32, 10.77, 10.51, 10.6 , 10.9 , 10.11, 10.67,\n",
              "       10.78])"
            ]
          },
          "metadata": {},
          "execution_count": 25
        }
      ]
    },
    {
      "cell_type": "markdown",
      "source": [
        "2. Множення кожного елементу матриці на 2."
      ],
      "metadata": {
        "id": "3QJuV1u7TRCJ"
      }
    },
    {
      "cell_type": "code",
      "source": [
        "matrix_multi_const = 2 * matrix\n",
        "matrix_multi_const"
      ],
      "metadata": {
        "id": "R3iI-G1WTVEL",
        "outputId": "073b6dcd-7e94-4969-b128-b6d5954ec875",
        "colab": {
          "base_uri": "https://localhost:8080/"
        }
      },
      "execution_count": null,
      "outputs": [
        {
          "output_type": "execute_result",
          "data": {
            "text/plain": [
              "array([[22, 28, 34],\n",
              "       [40, 46, 52],\n",
              "       [58, 64, 70]])"
            ]
          },
          "metadata": {},
          "execution_count": 27
        }
      ]
    },
    {
      "cell_type": "markdown",
      "source": [
        "3. Квадрат для кожного елементу вектор без циклів."
      ],
      "metadata": {
        "id": "x-Hp7BLYUAgw"
      }
    },
    {
      "cell_type": "code",
      "source": [
        "vector_expon_const = random_vector ** 2\n",
        "print(vector_expon_const)"
      ],
      "metadata": {
        "id": "9eXjjoqKUHDs",
        "outputId": "c96514c1-081c-4188-bd15-141f34e134bb",
        "colab": {
          "base_uri": "https://localhost:8080/"
        }
      },
      "execution_count": null,
      "outputs": [
        {
          "output_type": "stream",
          "name": "stdout",
          "text": [
            "[5.26735656e-01 1.68962638e-05 1.02857738e-01 5.87249724e-01\n",
            " 2.62878380e-01 3.57469503e-01 8.03617013e-01 1.10810892e-02\n",
            " 4.53404657e-01 6.05708089e-01]\n"
          ]
        }
      ]
    },
    {
      "cell_type": "markdown",
      "source": [
        "\n",
        "### Завдання 3: Множення матриць\n",
        "1. Задані дві матриці `A` і `B`розмірностями 3x2 та 2х3. Виконайте їхнє множення, щоб отримати матрицю 2x2. Виведіть результуючу матрицю `result_matrix` на екран.\n",
        "\n",
        "2. Заданий вектор `C` розмірністю 2х1. Подумайте спочатку, яку розмірність Ви отрмаєте, коли домножите `result_matrix` на вектор `C` і який результат буде. А потім виконайте множення і виведіть результат на екран.\n",
        "\n",
        "3. Задана матриця `D` розмірністю 2х2. Подумайте спочатку, яку розмірність Ви отрмаєте, коли домножите `result_matrix` на матрицю `D` і який результат буде. А потім виконайте множення і виведіть результат на екран."
      ],
      "metadata": {
        "id": "u6RvWVfhPy-k"
      }
    },
    {
      "cell_type": "code",
      "source": [
        "A = np.array(\n",
        "    [[0.18, 0.53],\n",
        "     [0.75, 0.47],\n",
        "     [0.35, 0.21]])\n",
        "\n",
        "B = np.array(\n",
        "    [[0.17, 0.58, 0.75],\n",
        "     [0.38, 0.11, 0.15]])\n",
        "\n",
        "C = np.array([[0], [1]])\n",
        "\n",
        "D = np.array([[0,1], [1,0]])\n",
        "\n",
        "display(A, B, C, D)"
      ],
      "metadata": {
        "id": "RwXfPzlbSJ44",
        "outputId": "dade79d3-65f0-4878-ef87-5835b8aff7b0",
        "colab": {
          "base_uri": "https://localhost:8080/",
          "height": 173
        }
      },
      "execution_count": null,
      "outputs": [
        {
          "output_type": "display_data",
          "data": {
            "text/plain": [
              "array([[0.18, 0.53],\n",
              "       [0.75, 0.47],\n",
              "       [0.35, 0.21]])"
            ]
          },
          "metadata": {}
        },
        {
          "output_type": "display_data",
          "data": {
            "text/plain": [
              "array([[0.17, 0.58, 0.75],\n",
              "       [0.38, 0.11, 0.15]])"
            ]
          },
          "metadata": {}
        },
        {
          "output_type": "display_data",
          "data": {
            "text/plain": [
              "array([[0],\n",
              "       [1]])"
            ]
          },
          "metadata": {}
        },
        {
          "output_type": "display_data",
          "data": {
            "text/plain": [
              "array([[0, 1],\n",
              "       [1, 0]])"
            ]
          },
          "metadata": {}
        }
      ]
    },
    {
      "cell_type": "markdown",
      "source": [
        "1. Множення матриць. Ми можемо перемножити ці матриці, бо кількість рядків першої матриці дорівнює кількості стовпчиків другої матриці."
      ],
      "metadata": {
        "id": "rOxK9OLLUw46"
      }
    },
    {
      "cell_type": "code",
      "source": [
        "result = np.dot(A, B)\n",
        "result_matrix = result[:2, :2]\n",
        "result_matrix"
      ],
      "metadata": {
        "id": "z7-boTbhVKkj",
        "outputId": "f5403a8a-f8bd-456a-8447-54fce3e3c8d7",
        "colab": {
          "base_uri": "https://localhost:8080/"
        }
      },
      "execution_count": null,
      "outputs": [
        {
          "output_type": "execute_result",
          "data": {
            "text/plain": [
              "array([[0.232 , 0.1627],\n",
              "       [0.3061, 0.4867]])"
            ]
          },
          "metadata": {},
          "execution_count": 45
        }
      ]
    },
    {
      "cell_type": "markdown",
      "source": [
        "2. Розмірність матриць після множення. Після множення матриці 2х2 на матрицю 2х1 результуюча матриця повинна бути розмірністю 2x1."
      ],
      "metadata": {
        "id": "UrA0MOViYF5h"
      }
    },
    {
      "cell_type": "code",
      "source": [
        "np.dot(result_matrix, C)"
      ],
      "metadata": {
        "id": "uzVp5ESZfJFi",
        "outputId": "4ea49632-42c8-46c9-b5f7-4d9e1b84d443",
        "colab": {
          "base_uri": "https://localhost:8080/"
        }
      },
      "execution_count": null,
      "outputs": [
        {
          "output_type": "execute_result",
          "data": {
            "text/plain": [
              "array([[0.1627],\n",
              "       [0.4867]])"
            ]
          },
          "metadata": {},
          "execution_count": 46
        }
      ]
    },
    {
      "cell_type": "markdown",
      "source": [
        "3. Розмірність матриць після множення. Після множення матриці 2х2 на матрицю 2х1 результуюча матриця повинна бути розмірністю 2х2."
      ],
      "metadata": {
        "id": "Sv8-UOocgY7O"
      }
    },
    {
      "cell_type": "code",
      "source": [
        "result_matrix = np.dot(D, result_matrix)\n",
        "result_matrix"
      ],
      "metadata": {
        "id": "dI9zkc9Vg0zx",
        "outputId": "803d8663-e444-43b9-be16-deafd7f72236",
        "colab": {
          "base_uri": "https://localhost:8080/"
        }
      },
      "execution_count": null,
      "outputs": [
        {
          "output_type": "execute_result",
          "data": {
            "text/plain": [
              "array([[0.232 , 0.1627],\n",
              "       [0.3061, 0.4867]])"
            ]
          },
          "metadata": {},
          "execution_count": 49
        }
      ]
    },
    {
      "cell_type": "markdown",
      "source": [
        "\n",
        "### Завдання 4: Транспонування матриць\n",
        "1. Транспонуйте `result_matrix`.\n",
        "2. Зробіть транспонування вектора `vector` і виведіть форму нової структури. Чи бачите ви зміну?\n",
        "3. Використайте операцію `numpy.expand_dims` над вектором `vector` з аргументом axis=1. Запишіть отриманий результат в змінну `column_vector` і виведіть на екран. Порівняйте з `vector`.\n",
        "4. Зробіть транспонування `column_vector`, виведіть результат на екран разом з розмірностями отриманої структури.\n",
        "\n",
        "\n"
      ],
      "metadata": {
        "id": "wohp0_cxSGpl"
      }
    },
    {
      "cell_type": "markdown",
      "source": [
        "1. Транспортування result_matrix."
      ],
      "metadata": {
        "id": "KlP77zudjfCq"
      }
    },
    {
      "cell_type": "code",
      "source": [
        "transported_result_matrix = np.transpose(result_matrix)\n",
        "transported_result_matrix"
      ],
      "metadata": {
        "id": "4hFcq1baVLii",
        "outputId": "b8460adf-7e25-4584-c618-c621ee38ce68",
        "colab": {
          "base_uri": "https://localhost:8080/"
        }
      },
      "execution_count": null,
      "outputs": [
        {
          "output_type": "execute_result",
          "data": {
            "text/plain": [
              "array([[0.232 , 0.3061],\n",
              "       [0.1627, 0.4867]])"
            ]
          },
          "metadata": {},
          "execution_count": 50
        }
      ]
    },
    {
      "cell_type": "markdown",
      "source": [
        "2. Транспортування вектору. Порівнюючи результати різниці немає."
      ],
      "metadata": {
        "id": "hn2HCFUDjYHN"
      }
    },
    {
      "cell_type": "code",
      "source": [
        "transported_random_vector = np.transpose(random_vector)\n",
        "\n",
        "print(random_vector)\n",
        "print(transported_random_vector)"
      ],
      "metadata": {
        "id": "p0CovUa6i9Nt",
        "outputId": "c9e7064c-bf2d-4bb9-8256-1ed0d392c4d8",
        "colab": {
          "base_uri": "https://localhost:8080/"
        }
      },
      "execution_count": null,
      "outputs": [
        {
          "output_type": "stream",
          "name": "stdout",
          "text": [
            "[0.72576557 0.00411051 0.32071442 0.76632221 0.51271667 0.59788753\n",
            " 0.89644688 0.10526675 0.67335329 0.7782725 ]\n",
            "[0.72576557 0.00411051 0.32071442 0.76632221 0.51271667 0.59788753\n",
            " 0.89644688 0.10526675 0.67335329 0.7782725 ]\n"
          ]
        }
      ]
    },
    {
      "cell_type": "markdown",
      "source": [
        "3. Результуючий вектор став масивом масивів у порівнянні зі звичайним масивом орігинального вектора."
      ],
      "metadata": {
        "id": "H3ym4BbOj7cE"
      }
    },
    {
      "cell_type": "code",
      "source": [
        "column_vector = np.expand_dims(random_vector, axis=1)\n",
        "print(f\"Column vector: \\n {column_vector}\")\n",
        "print(f\"Original vector: \\n {random_vector}\")"
      ],
      "metadata": {
        "id": "1uIMcO2Ijma5",
        "outputId": "7b7df03a-4071-4221-893f-5b5f04b7d8c5",
        "colab": {
          "base_uri": "https://localhost:8080/"
        }
      },
      "execution_count": null,
      "outputs": [
        {
          "output_type": "stream",
          "name": "stdout",
          "text": [
            "Column vector: \n",
            " [[0.72576557]\n",
            " [0.00411051]\n",
            " [0.32071442]\n",
            " [0.76632221]\n",
            " [0.51271667]\n",
            " [0.59788753]\n",
            " [0.89644688]\n",
            " [0.10526675]\n",
            " [0.67335329]\n",
            " [0.7782725 ]]\n",
            "Original vector: \n",
            " [0.72576557 0.00411051 0.32071442 0.76632221 0.51271667 0.59788753\n",
            " 0.89644688 0.10526675 0.67335329 0.7782725 ]\n"
          ]
        }
      ]
    },
    {
      "cell_type": "markdown",
      "source": [
        "4. Транспортування column_vector призвело до того, що масив масивів став масивом в масиві. Розмірності перевернути 10х1 і 1х10."
      ],
      "metadata": {
        "id": "_ycTtvszku1n"
      }
    },
    {
      "cell_type": "code",
      "source": [
        "column_vector_transposed = np.transpose(column_vector)\n",
        "print(f\"Column vector:  \\n {column_vector} and size: {column_vector.shape}\")\n",
        "print(f\"Column vector transposed:  \\n {column_vector_transposed} and size: {column_vector_transposed.shape}\")"
      ],
      "metadata": {
        "id": "-pyc0YNVkzup",
        "outputId": "0b99f689-e5ef-473d-a4fe-e4a6eb54d5a4",
        "colab": {
          "base_uri": "https://localhost:8080/"
        }
      },
      "execution_count": null,
      "outputs": [
        {
          "output_type": "stream",
          "name": "stdout",
          "text": [
            "Column vector:  \n",
            " [[0.72576557]\n",
            " [0.00411051]\n",
            " [0.32071442]\n",
            " [0.76632221]\n",
            " [0.51271667]\n",
            " [0.59788753]\n",
            " [0.89644688]\n",
            " [0.10526675]\n",
            " [0.67335329]\n",
            " [0.7782725 ]] and size: (10, 1)\n",
            "Column vector transposed:  \n",
            " [[0.72576557 0.00411051 0.32071442 0.76632221 0.51271667 0.59788753\n",
            "  0.89644688 0.10526675 0.67335329 0.7782725 ]] and size: (1, 10)\n"
          ]
        }
      ]
    }
  ]
}